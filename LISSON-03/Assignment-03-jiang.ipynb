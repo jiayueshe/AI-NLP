{
 "cells": [
  {
   "cell_type": "markdown",
   "metadata": {},
   "source": [
    "## Assignment-03 First Step of Machine Learning: Model and Evaluation"
   ]
  },
  {
   "cell_type": "markdown",
   "metadata": {},
   "source": [
    "同学们，今天我们的学习了基本的机器学习概念，相比你已经对机器学习的这些方法有一个基本的认识了。值得说明的是，机器学习不仅仅是一系列方法，更重要的是一种思维体系，即：依据以往的、现有的数据，构建某种方法来解决未见过的问题。而且决策树，贝叶斯只是实现这个目标的一个方法，包括之后的神经网络。很有可能有一天，神经网络也会被淘汰，但是重要的是我们要理解机器学习的目标，就是尽可能的自动化解决未知的问题。"
   ]
  },
  {
   "cell_type": "markdown",
   "metadata": {},
   "source": [
    "![](https://timgsa.baidu.com/timg?image&quality=80&size=b9999_10000&sec=1571556399207&di=4a97dc15ad08dd49d3748d1edf6109b3&imgtype=0&src=http%3A%2F%2Fc.hiphotos.baidu.com%2Fzhidao%2Fwh%3D450%2C600%2Fsign%3Dae742c6aedcd7b89e93932873a146e91%2F5d6034a85edf8db1b16050c40223dd54574e74c7.jpg)"
   ]
  },
  {
   "cell_type": "markdown",
   "metadata": {},
   "source": [
    "## Part-1 Programming Review 编程回顾"
   ]
  },
  {
   "cell_type": "markdown",
   "metadata": {},
   "source": [
    "#### 1. Re-code the Linear-Regression Model using scikit-learning(10 points)"
   ]
  },
  {
   "cell_type": "markdown",
   "metadata": {},
   "source": [
    "<评阅点>： \n",
    "> + 是否完成线性回归模型 (4')\n",
    "+ 能够进行预测新数据(3')\n",
    "+ 能够进行可视化操作(3')"
   ]
  },
  {
   "cell_type": "code",
   "execution_count": 1,
   "metadata": {},
   "outputs": [
    {
     "name": "stdout",
     "output_type": "stream",
     "text": [
      "Requirement already satisfied: sklearn in c:\\users\\jiang\\anaconda3\\lib\\site-packages (0.0)\n",
      "Requirement already satisfied: scikit-learn in c:\\users\\jiang\\anaconda3\\lib\\site-packages (from sklearn) (0.21.3)\n",
      "Requirement already satisfied: scipy>=0.17.0 in c:\\users\\jiang\\anaconda3\\lib\\site-packages (from scikit-learn->sklearn) (1.3.1)\n",
      "Requirement already satisfied: joblib>=0.11 in c:\\users\\jiang\\anaconda3\\lib\\site-packages (from scikit-learn->sklearn) (0.13.2)\n",
      "Requirement already satisfied: numpy>=1.11.0 in c:\\users\\jiang\\anaconda3\\lib\\site-packages (from scikit-learn->sklearn) (1.16.5)\n"
     ]
    },
    {
     "data": {
      "text/plain": [
       "array([[0.91724064, 0.07996153],\n",
       "       [0.54406149, 0.26873343],\n",
       "       [0.92204433, 0.72095909],\n",
       "       [0.72777584, 0.23260203],\n",
       "       [0.95628924, 0.52061013],\n",
       "       [0.96426426, 0.27464982],\n",
       "       [0.2193127 , 0.25526528],\n",
       "       [0.78578394, 0.01078288],\n",
       "       [0.02608348, 0.90244527],\n",
       "       [0.39223365, 0.05873339],\n",
       "       [0.64092853, 0.65204008],\n",
       "       [0.32496065, 0.47258423],\n",
       "       [0.96379329, 0.24495431],\n",
       "       [0.74277318, 0.65898021],\n",
       "       [0.8419416 , 0.71304479],\n",
       "       [0.40057009, 0.38888721],\n",
       "       [0.22768137, 0.10567822],\n",
       "       [0.05436659, 0.03197455],\n",
       "       [0.85257565, 0.99620874],\n",
       "       [0.80946967, 0.11784409],\n",
       "       [0.32053472, 0.57765015],\n",
       "       [0.08060473, 0.55292843],\n",
       "       [0.72994246, 0.88251347],\n",
       "       [0.76379613, 0.92826661],\n",
       "       [0.72596586, 0.9155341 ],\n",
       "       [0.86066347, 0.5771325 ],\n",
       "       [0.01516408, 0.05815993],\n",
       "       [0.70512557, 0.52886514],\n",
       "       [0.46112332, 0.57383804],\n",
       "       [0.35972537, 0.12701574],\n",
       "       [0.0790277 , 0.6559008 ],\n",
       "       [0.13184181, 0.46487495],\n",
       "       [0.72344435, 0.43931878],\n",
       "       [0.22875905, 0.19326145],\n",
       "       [0.1663908 , 0.08187909],\n",
       "       [0.09122752, 0.19292849],\n",
       "       [0.86053304, 0.90417166],\n",
       "       [0.24705963, 0.73781728],\n",
       "       [0.11639815, 0.00802048],\n",
       "       [0.82171833, 0.8180901 ],\n",
       "       [0.94659831, 0.04233878],\n",
       "       [0.48188735, 0.85412791],\n",
       "       [0.44718408, 0.70072516],\n",
       "       [0.22705986, 0.04320711],\n",
       "       [0.57419041, 0.76696708],\n",
       "       [0.93680022, 0.74251122],\n",
       "       [0.52317588, 0.95380963],\n",
       "       [0.90628311, 0.67240462],\n",
       "       [0.2356737 , 0.40866138],\n",
       "       [0.57111875, 0.58954578],\n",
       "       [0.25758376, 0.6794907 ],\n",
       "       [0.10927638, 0.99490606],\n",
       "       [0.84946708, 0.01671992],\n",
       "       [0.56727235, 0.60378949],\n",
       "       [0.90768829, 0.68798844],\n",
       "       [0.74781727, 0.62882173],\n",
       "       [0.76791694, 0.00837805],\n",
       "       [0.46228924, 0.52003585],\n",
       "       [0.01063527, 0.1526877 ],\n",
       "       [0.44449942, 0.38203319],\n",
       "       [0.97279515, 0.83986792],\n",
       "       [0.46646412, 0.51710385],\n",
       "       [0.44329906, 0.21838812],\n",
       "       [0.65874573, 0.12199571],\n",
       "       [0.94790486, 0.97425875],\n",
       "       [0.48305581, 0.40667135],\n",
       "       [0.28759632, 0.75781581],\n",
       "       [0.50281821, 0.58791756],\n",
       "       [0.66461556, 0.09406323],\n",
       "       [0.20596321, 0.21192021],\n",
       "       [0.81596709, 0.7756347 ],\n",
       "       [0.45139503, 0.55225514],\n",
       "       [0.57138299, 0.02524675],\n",
       "       [0.16533753, 0.09369519],\n",
       "       [0.95837403, 0.84459762],\n",
       "       [0.42801707, 0.95866611],\n",
       "       [0.82400756, 0.46347102],\n",
       "       [0.58658981, 0.1233055 ],\n",
       "       [0.59985846, 0.62398546],\n",
       "       [0.66732835, 0.4252448 ],\n",
       "       [0.40124658, 0.38847724],\n",
       "       [0.06783798, 0.73681731],\n",
       "       [0.05107303, 0.45583404],\n",
       "       [0.35962256, 0.04094869],\n",
       "       [0.60178032, 0.91376605],\n",
       "       [0.22385015, 0.4073297 ],\n",
       "       [0.87699902, 0.00969379],\n",
       "       [0.87384277, 0.73056392],\n",
       "       [0.12523535, 0.96522145],\n",
       "       [0.98451136, 0.32542192],\n",
       "       [0.04179612, 0.33525202],\n",
       "       [0.21922393, 0.65181612],\n",
       "       [0.55840759, 0.90359112],\n",
       "       [0.07141734, 0.30125499],\n",
       "       [0.45524955, 0.81274748],\n",
       "       [0.06721649, 0.60620233],\n",
       "       [0.76254251, 0.54529071],\n",
       "       [0.34178999, 0.30941082],\n",
       "       [0.03538106, 0.00437189],\n",
       "       [0.69616275, 0.41975734],\n",
       "       [0.55887787, 0.69595959],\n",
       "       [0.06479374, 0.09921581],\n",
       "       [0.33921717, 0.82770557],\n",
       "       [0.49069929, 0.73367169],\n",
       "       [0.91644529, 0.0033361 ],\n",
       "       [0.5770091 , 0.00880688],\n",
       "       [0.41113069, 0.58798948],\n",
       "       [0.8160199 , 0.46329961],\n",
       "       [0.45091324, 0.78865644],\n",
       "       [0.148902  , 0.80298758],\n",
       "       [0.05822837, 0.06602651],\n",
       "       [0.09863254, 0.78811378],\n",
       "       [0.44038531, 0.22863246],\n",
       "       [0.88208491, 0.62616941],\n",
       "       [0.69083314, 0.75364753],\n",
       "       [0.89189166, 0.25259806],\n",
       "       [0.2164715 , 0.88388763],\n",
       "       [0.10803132, 0.94768599],\n",
       "       [0.63898459, 0.30302699],\n",
       "       [0.4113621 , 0.93330214],\n",
       "       [0.31854352, 0.28847089],\n",
       "       [0.06114455, 0.47471275],\n",
       "       [0.54787249, 0.83019494],\n",
       "       [0.66544076, 0.41444542],\n",
       "       [0.22011046, 0.51621558],\n",
       "       [0.69710573, 0.76834208],\n",
       "       [0.23487591, 0.67795498],\n",
       "       [0.916107  , 0.46068071],\n",
       "       [0.95758023, 0.98957476],\n",
       "       [0.58179678, 0.33349889],\n",
       "       [0.9025406 , 0.30609302],\n",
       "       [0.47517608, 0.86401056],\n",
       "       [0.40847651, 0.21675681],\n",
       "       [0.86773881, 0.16489928],\n",
       "       [0.20030306, 0.46991721],\n",
       "       [0.33599598, 0.35689492],\n",
       "       [0.05165472, 0.20445147],\n",
       "       [0.87703143, 0.23563566],\n",
       "       [0.67100435, 0.25368616],\n",
       "       [0.6524979 , 0.19769708],\n",
       "       [0.94383553, 0.27040897],\n",
       "       [0.4427713 , 0.43754189],\n",
       "       [0.58968061, 0.23211108],\n",
       "       [0.1498427 , 0.14588521],\n",
       "       [0.19289874, 0.69444906],\n",
       "       [0.52853042, 0.97195355],\n",
       "       [0.46714467, 0.68451533],\n",
       "       [0.31164844, 0.8516048 ],\n",
       "       [0.72381278, 0.67718396],\n",
       "       [0.59875347, 0.09081547],\n",
       "       [0.31243253, 0.32561507],\n",
       "       [0.71952615, 0.15936386],\n",
       "       [0.98951866, 0.88634884],\n",
       "       [0.83338706, 0.62279274],\n",
       "       [0.19603716, 0.57579505],\n",
       "       [0.81082065, 0.58264817],\n",
       "       [0.68051311, 0.79182671],\n",
       "       [0.56664325, 0.53637505],\n",
       "       [0.91690709, 0.82244392],\n",
       "       [0.99416686, 0.49798752],\n",
       "       [0.47687755, 0.58409607],\n",
       "       [0.95439039, 0.37388505],\n",
       "       [0.60832103, 0.25953727],\n",
       "       [0.68881298, 0.81430486],\n",
       "       [0.31035232, 0.60251388],\n",
       "       [0.17112361, 0.27073872],\n",
       "       [0.05673638, 0.90308114],\n",
       "       [0.31541575, 0.70815517],\n",
       "       [0.64949431, 0.89839001],\n",
       "       [0.65340972, 0.5103074 ],\n",
       "       [0.01024511, 0.47821191],\n",
       "       [0.30247134, 0.39961745],\n",
       "       [0.6724792 , 0.8728107 ],\n",
       "       [0.31765322, 0.17398164],\n",
       "       [0.58808782, 0.56860847],\n",
       "       [0.54682627, 0.61509667],\n",
       "       [0.40898613, 0.02711504],\n",
       "       [0.00908523, 0.805512  ],\n",
       "       [0.9932175 , 0.81353813],\n",
       "       [0.10578147, 0.06370407],\n",
       "       [0.06651263, 0.35544595],\n",
       "       [0.89686716, 0.23625515],\n",
       "       [0.96590973, 0.98245891],\n",
       "       [0.31488965, 0.79493033],\n",
       "       [0.69520131, 0.27743673],\n",
       "       [0.66640416, 0.31871148],\n",
       "       [0.61624221, 0.13757885],\n",
       "       [0.02493642, 0.31372683],\n",
       "       [0.70010011, 0.7459112 ],\n",
       "       [0.75822225, 0.09273529],\n",
       "       [0.67696904, 0.23204115],\n",
       "       [0.36010119, 0.81760913],\n",
       "       [0.01745436, 0.8059588 ],\n",
       "       [0.37131222, 0.00948829],\n",
       "       [0.74656765, 0.29991475],\n",
       "       [0.89875979, 0.12953392],\n",
       "       [0.15594376, 0.05590627],\n",
       "       [0.26663968, 0.53357214],\n",
       "       [0.89141733, 0.54463129],\n",
       "       [0.34386244, 0.69854071]])"
      ]
     },
     "execution_count": 1,
     "metadata": {},
     "output_type": "execute_result"
    }
   ],
   "source": [
    "# you code here\n",
    "!pip install sklearn\n",
    "%matplotlib inline\n",
    "import numpy as np\n",
    "random_data = np.random.random((200, 2))\n",
    "random_data"
   ]
  },
  {
   "cell_type": "code",
   "execution_count": 2,
   "metadata": {},
   "outputs": [
    {
     "data": {
      "text/plain": [
       "<matplotlib.collections.PathCollection at 0x245eda18448>"
      ]
     },
     "execution_count": 2,
     "metadata": {},
     "output_type": "execute_result"
    },
    {
     "data": {
      "image/png": "[encoded data removed]",
      "text/plain": [
       "<Figure size 432x288 with 1 Axes>"
      ]
     },
     "metadata": {
      "needs_background": "light"
     },
     "output_type": "display_data"
    }
   ],
   "source": [
    "import matplotlib.pyplot as plt\n",
    "X = random_data[:, 0]\n",
    "y = random_data[:, 1]\n",
    "import random\n",
    "def assmuing_function(x):\n",
    "    return 36.5 * x + 4 + random.randint(-3, 3)\n",
    "y = [assmuing_function(x) for x in X]\n",
    "plt.scatter(X, y)"
   ]
  },
  {
   "cell_type": "code",
   "execution_count": 3,
   "metadata": {},
   "outputs": [
    {
     "data": {
      "text/plain": [
       "0.9712866979392363"
      ]
     },
     "execution_count": 3,
     "metadata": {},
     "output_type": "execute_result"
    }
   ],
   "source": [
    "y = np.array(y)\n",
    "import numpy as np\n",
    "from sklearn.linear_model import LinearRegression\n",
    "reg = LinearRegression().fit(X.reshape(-1, 1), y)\n",
    "reg.score(X.reshape(-1, 1), y)"
   ]
  },
  {
   "cell_type": "code",
   "execution_count": 4,
   "metadata": {},
   "outputs": [
    {
     "data": {
      "text/plain": [
       "array([37.27195075])"
      ]
     },
     "execution_count": 4,
     "metadata": {},
     "output_type": "execute_result"
    }
   ],
   "source": [
    "reg.coef_"
   ]
  },
  {
   "cell_type": "code",
   "execution_count": 5,
   "metadata": {},
   "outputs": [
    {
     "data": {
      "text/plain": [
       "3.5947952660316105"
      ]
     },
     "execution_count": 5,
     "metadata": {},
     "output_type": "execute_result"
    }
   ],
   "source": [
    "reg.intercept_"
   ]
  },
  {
   "cell_type": "code",
   "execution_count": 6,
   "metadata": {},
   "outputs": [],
   "source": [
    "def f(x): \n",
    "    return reg.coef_ * x + reg.intercept_"
   ]
  },
  {
   "cell_type": "code",
   "execution_count": 7,
   "metadata": {},
   "outputs": [
    {
     "data": {
      "text/plain": [
       "[<matplotlib.lines.Line2D at 0x245ef04e208>]"
      ]
     },
     "execution_count": 7,
     "metadata": {},
     "output_type": "execute_result"
    },
    {
     "data": {
      "image/png": "[encoded data removed]",
      "text/plain": [
       "<Figure size 432x288 with 1 Axes>"
      ]
     },
     "metadata": {
      "needs_background": "light"
     },
     "output_type": "display_data"
    }
   ],
   "source": [
    "plt.scatter(X, y)\n",
    "plt.plot(X, f(X), color='red')"
   ]
  },
  {
   "cell_type": "code",
   "execution_count": 8,
   "metadata": {},
   "outputs": [
    {
     "data": {
      "text/plain": [
       "array([29.68516079])"
      ]
     },
     "execution_count": 8,
     "metadata": {},
     "output_type": "execute_result"
    }
   ],
   "source": [
    "reg.predict([[0.7]])"
   ]
  },
  {
   "cell_type": "markdown",
   "metadata": {},
   "source": [
    "#### 2. Complete the unfinished KNN Model using pure python to solve the previous Line-Regression problem. (8 points)"
   ]
  },
  {
   "cell_type": "markdown",
   "metadata": {},
   "source": [
    "<评阅点>:\n",
    "> + 是否完成了KNN模型 (4')\n",
    "+ 是否能够预测新的数据 (4')"
   ]
  },
  {
   "cell_type": "code",
   "execution_count": 9,
   "metadata": {},
   "outputs": [],
   "source": [
    "# you code here\n",
    "def model(X, y):\n",
    "    # 直接存储 X,y 即可\n",
    "    return [(Xi, yi) for Xi, yi in zip(X, y)]\n",
    "from scipy.spatial.distance import cosine\n",
    "def distance(x1, x2):\n",
    "    return cosine(x1, x2)"
   ]
  },
  {
   "cell_type": "code",
   "execution_count": 10,
   "metadata": {},
   "outputs": [],
   "source": [
    "def predict(x, k=5):\n",
    "    # K值取多少合适，或少或多都会不准确，有什么好的评估方法\n",
    "    most_similars = sorted(model(X, y), key=lambda xi: distance(xi[0], x))[:k]\n",
    "    y_hats = [_y for x, _y in most_similars]\n",
    "    print(most_similars)\n",
    "    return np.mean(y_hats)"
   ]
  },
  {
   "cell_type": "code",
   "execution_count": 11,
   "metadata": {},
   "outputs": [],
   "source": [
    "myself_knn = model(X, y)"
   ]
  },
  {
   "cell_type": "code",
   "execution_count": 12,
   "metadata": {},
   "outputs": [
    {
     "name": "stdout",
     "output_type": "stream",
     "text": [
      "[(0.9220443306141731, 35.65461806741732), (0.9637932865487082, 36.17845495902785), (0.481887349137497, 18.58888824351864), (0.4471840838687158, 23.322219061208127), (0.010635274113363513, 3.3881875051377683)]\n"
     ]
    },
    {
     "data": {
      "text/plain": [
       "23.42647356726194"
      ]
     },
     "execution_count": 12,
     "metadata": {},
     "output_type": "execute_result"
    }
   ],
   "source": [
    "predict(0.7)"
   ]
  },
  {
   "cell_type": "markdown",
   "metadata": {},
   "source": [
    "#### 3. Re-code the Decision Tree, which could sort the features by salience. (12 points)"
   ]
  },
  {
   "cell_type": "markdown",
   "metadata": {},
   "source": [
    "<评阅点>\n",
    "> + 是否实现了信息熵 (1' )\n",
    "+ 是否实现了最优先特征点的选择(5')\n",
    "+ 是否实现了持续的特征选则(6')"
   ]
  },
  {
   "cell_type": "code",
   "execution_count": 19,
   "metadata": {},
   "outputs": [],
   "source": [
    "# you code here\n",
    "from collections import Counter\n",
    "from icecream import ic\n",
    "def entropy(elements):\n",
    "    '''群体的混乱程度'''\n",
    "    counter = Counter(elements)\n",
    "    probs = [counter[c] / len(elements) for c in set(elements)]\n",
    "    ic(probs)\n",
    "    return - sum(p * np.log(p) for p in probs)"
   ]
  },
  {
   "cell_type": "code",
   "execution_count": 32,
   "metadata": {},
   "outputs": [
    {
     "data": {
      "text/html": [
       "<div>\n",
       "<style scoped>\n",
       "    .dataframe tbody tr th:only-of-type {\n",
       "        vertical-align: middle;\n",
       "    }\n",
       "\n",
       "    .dataframe tbody tr th {\n",
       "        vertical-align: top;\n",
       "    }\n",
       "\n",
       "    .dataframe thead th {\n",
       "        text-align: right;\n",
       "    }\n",
       "</style>\n",
       "<table border=\"1\" class=\"dataframe\">\n",
       "  <thead>\n",
       "    <tr style=\"text-align: right;\">\n",
       "      <th></th>\n",
       "      <th>gender</th>\n",
       "      <th>income</th>\n",
       "      <th>family_number</th>\n",
       "      <th>bought</th>\n",
       "    </tr>\n",
       "  </thead>\n",
       "  <tbody>\n",
       "    <tr>\n",
       "      <td>0</td>\n",
       "      <td>F</td>\n",
       "      <td>+10</td>\n",
       "      <td>1</td>\n",
       "      <td>1</td>\n",
       "    </tr>\n",
       "    <tr>\n",
       "      <td>1</td>\n",
       "      <td>F</td>\n",
       "      <td>-10</td>\n",
       "      <td>1</td>\n",
       "      <td>1</td>\n",
       "    </tr>\n",
       "    <tr>\n",
       "      <td>2</td>\n",
       "      <td>F</td>\n",
       "      <td>+10</td>\n",
       "      <td>2</td>\n",
       "      <td>1</td>\n",
       "    </tr>\n",
       "    <tr>\n",
       "      <td>3</td>\n",
       "      <td>F</td>\n",
       "      <td>+10</td>\n",
       "      <td>1</td>\n",
       "      <td>0</td>\n",
       "    </tr>\n",
       "    <tr>\n",
       "      <td>4</td>\n",
       "      <td>M</td>\n",
       "      <td>+10</td>\n",
       "      <td>1</td>\n",
       "      <td>0</td>\n",
       "    </tr>\n",
       "    <tr>\n",
       "      <td>5</td>\n",
       "      <td>M</td>\n",
       "      <td>+10</td>\n",
       "      <td>1</td>\n",
       "      <td>0</td>\n",
       "    </tr>\n",
       "    <tr>\n",
       "      <td>6</td>\n",
       "      <td>M</td>\n",
       "      <td>-10</td>\n",
       "      <td>2</td>\n",
       "      <td>1</td>\n",
       "    </tr>\n",
       "  </tbody>\n",
       "</table>\n",
       "</div>"
      ],
      "text/plain": [
       "  gender income  family_number  bought\n",
       "0      F    +10              1       1\n",
       "1      F    -10              1       1\n",
       "2      F    +10              2       1\n",
       "3      F    +10              1       0\n",
       "4      M    +10              1       0\n",
       "5      M    +10              1       0\n",
       "6      M    -10              2       1"
      ]
     },
     "execution_count": 32,
     "metadata": {},
     "output_type": "execute_result"
    }
   ],
   "source": [
    "mock_data = {\n",
    "    'gender':['F', 'F', 'F', 'F', 'M', 'M', 'M'],\n",
    "    'income': ['+10', '-10', '+10', '+10', '+10', '+10', '-10'],\n",
    "    'family_number': [1, 1, 2, 1, 1, 1, 2],\n",
    "   # 'pet': [1, 1, 1, 0, 0, 0, 1],\n",
    "    'bought': [1, 1, 1, 0, 0, 0, 1],\n",
    "}\n",
    "import pandas as pd\n",
    "dataset = pd.DataFrame.from_dict(mock_data)\n",
    "dataset"
   ]
  },
  {
   "cell_type": "code",
   "execution_count": 21,
   "metadata": {},
   "outputs": [
    {
     "name": "stderr",
     "output_type": "stream",
     "text": [
      "ic| probs: [0.25, 0.75]\n",
      "ic| probs: [0.6666666666666666, 0.3333333333333333]\n",
      "ic| probs: [0.6, 0.4]\n",
      "ic| probs: [1.0]\n",
      "ic| probs: [0.6, 0.4]\n",
      "ic| probs: [1.0]\n",
      "ic| probs: [1.0]\n",
      "ic| probs: [1.0]\n"
     ]
    },
    {
     "name": "stdout",
     "output_type": "stream",
     "text": [
      "1.198849312913621\n",
      "0.6730116670092565\n",
      "0.6730116670092565\n"
     ]
    },
    {
     "data": {
      "text/plain": [
       "-0.0"
      ]
     },
     "execution_count": 21,
     "metadata": {},
     "output_type": "execute_result"
    }
   ],
   "source": [
    "# split_by_gender: F影响大\n",
    "print(entropy([1, 1, 1, 0]) + entropy([0, 0, 1]))\n",
    "\n",
    "# split_by_income: —10影响大\n",
    "print(entropy([1, 1, 0, 0, 0]) + entropy([1, 1]))\n",
    "\n",
    "# split_by_family_number 2的影响大\n",
    "print(entropy([1, 1, 0, 0, 0]) + entropy([1, 1]))\n",
    "\n",
    "# 我们最希望找到一种feature， split_by_some_feature: \n",
    "# split_by_pet 1的影响大\n",
    "entropy([1, 1, 1, 1]) + entropy([0, 0, 0])"
   ]
  },
  {
   "cell_type": "code",
   "execution_count": 27,
   "metadata": {},
   "outputs": [],
   "source": [
    "def find_the_optimal_spilter(training_data: pd.DataFrame, target: str) -> str:\n",
    "    x_fields = set(training_data.columns.tolist()) - {target}\n",
    "    spliter = None\n",
    "    min_entropy = float('inf')\n",
    "    \n",
    "    for f in x_fields:\n",
    "        ic(f)\n",
    "        values = set(training_data[f])\n",
    "        ic(values)\n",
    "        for v in values:\n",
    "            sub_spliter_1 = training_data[training_data[f] == v][target].tolist()\n",
    "            ic(sub_spliter_1)\n",
    "            # split by the current feature and one value\n",
    "            \n",
    "            entropy_1 = entropy(sub_spliter_1)\n",
    "            ic(entropy_1)\n",
    "            \n",
    "            sub_spliter_2 = training_data[training_data[f] != v][target].tolist()\n",
    "            ic(sub_spliter_2)\n",
    "            \n",
    "            entropy_2 = entropy(sub_spliter_2)\n",
    "            ic(entropy_2)\n",
    "            \n",
    "            entropy_v = entropy_1 + entropy_2\n",
    "            ic(entropy_v)\n",
    "            \n",
    "            if entropy_v <= min_entropy:\n",
    "                min_entropy = entropy_v\n",
    "                spliter = (f, v)\n",
    "    \n",
    "    print('spliter is: {}'.format(spliter))\n",
    "    print('the min entropy is: {}'.format(min_entropy))\n",
    "    \n",
    "    return spliter"
   ]
  },
  {
   "cell_type": "code",
   "execution_count": 41,
   "metadata": {
    "scrolled": false
   },
   "outputs": [
    {
     "name": "stderr",
     "output_type": "stream",
     "text": [
      "ic| f: 'income'\n",
      "ic| values: {'-10', '+10'}\n",
      "ic| sub_spliter_1: [1, 1]\n",
      "ic| probs: [1.0]\n",
      "ic| entropy_1: -0.0\n",
      "ic| sub_spliter_2: [1, 1, 0, 0, 0]\n",
      "ic| probs: [0.6, 0.4]\n",
      "ic| entropy_2: 0.6730116670092565\n",
      "ic| entropy_v: 0.6730116670092565\n",
      "ic| sub_spliter_1: [1, 1, 0, 0, 0]\n",
      "ic| probs: [0.6, 0.4]\n",
      "ic| entropy_1: 0.6730116670092565\n",
      "ic| sub_spliter_2: [1, 1]\n",
      "ic| probs: [1.0]\n",
      "ic| entropy_2: -0.0\n",
      "ic| entropy_v: 0.6730116670092565\n",
      "ic| f: 'gender'\n",
      "ic| values: {'M', 'F'}\n",
      "ic| sub_spliter_1: [0, 0, 1]\n",
      "ic| probs: [0.6666666666666666, 0.3333333333333333]\n",
      "ic| entropy_1: 0.6365141682948128\n",
      "ic| sub_spliter_2: [1, 1, 1, 0]\n",
      "ic| probs: [0.25, 0.75]\n",
      "ic| entropy_2: 0.5623351446188083\n",
      "ic| entropy_v: 1.198849312913621\n",
      "ic| sub_spliter_1: [1, 1, 1, 0]\n",
      "ic| probs: [0.25, 0.75]\n",
      "ic| entropy_1: 0.5623351446188083\n",
      "ic| sub_spliter_2: [0, 0, 1]\n",
      "ic| probs: [0.6666666666666666, 0.3333333333333333]\n",
      "ic| entropy_2: 0.6365141682948128\n",
      "ic| entropy_v: 1.198849312913621\n",
      "ic| f: 'family_number'\n",
      "ic| values: {1, 2}\n",
      "ic| sub_spliter_1: [1, 1, 0, 0, 0]\n",
      "ic| probs: [0.6, 0.4]\n",
      "ic| entropy_1: 0.6730116670092565\n",
      "ic| sub_spliter_2: [1, 1]\n",
      "ic| probs: [1.0]\n",
      "ic| entropy_2: -0.0\n",
      "ic| entropy_v: 0.6730116670092565\n",
      "ic| sub_spliter_1: [1, 1]\n",
      "ic| probs: [1.0]\n",
      "ic| entropy_1: -0.0\n",
      "ic| sub_spliter_2: [1, 1, 0, 0, 0]\n",
      "ic| probs: [0.6, 0.4]\n",
      "ic| entropy_2: 0.6730116670092565\n",
      "ic| entropy_v: 0.6730116670092565\n"
     ]
    },
    {
     "name": "stdout",
     "output_type": "stream",
     "text": [
      "spliter is: ('family_number', 2)\n",
      "the min entropy is: 0.6730116670092565\n"
     ]
    },
    {
     "data": {
      "text/plain": [
       "('family_number', 2)"
      ]
     },
     "execution_count": 41,
     "metadata": {},
     "output_type": "execute_result"
    }
   ],
   "source": [
    "find_the_optimal_spilter(training_data=dataset, target='bought')"
   ]
  },
  {
   "cell_type": "code",
   "execution_count": 39,
   "metadata": {
    "scrolled": true
   },
   "outputs": [
    {
     "name": "stderr",
     "output_type": "stream",
     "text": [
      "ic| f: 'income'\n",
      "ic| values: {'+10'}\n",
      "ic| sub_spliter_1: [1, 0, 0, 0]\n",
      "ic| probs: [0.75, 0.25]\n",
      "ic| entropy_1: 0.5623351446188083\n",
      "ic| sub_spliter_2: []\n",
      "ic| probs: []\n",
      "ic| entropy_2: 0\n",
      "ic| entropy_v: 0.5623351446188083\n",
      "ic| f: 'gender'\n",
      "ic| values: {'M', 'F'}\n",
      "ic| sub_spliter_1: [0, 0]\n",
      "ic| probs: [1.0]\n",
      "ic| entropy_1: -0.0\n",
      "ic| sub_spliter_2: [1, 0]\n",
      "ic| probs: [0.5, 0.5]\n",
      "ic| entropy_2: 0.6931471805599453\n",
      "ic| entropy_v: 0.6931471805599453\n",
      "ic| sub_spliter_1: [1, 0]\n",
      "ic| probs: [0.5, 0.5]\n",
      "ic| entropy_1: 0.6931471805599453\n",
      "ic| sub_spliter_2: [0, 0]\n",
      "ic| probs: [1.0]\n",
      "ic| entropy_2: -0.0\n",
      "ic| entropy_v: 0.6931471805599453\n",
      "ic| f: 'family_number'\n",
      "ic| values: {1}\n",
      "ic| sub_spliter_1: [1, 0, 0, 0]\n",
      "ic| probs: [0.75, 0.25]\n",
      "ic| entropy_1: 0.5623351446188083\n",
      "ic| sub_spliter_2: []\n",
      "ic| probs: []\n",
      "ic| entropy_2: 0\n",
      "ic| entropy_v: 0.5623351446188083\n"
     ]
    },
    {
     "name": "stdout",
     "output_type": "stream",
     "text": [
      "spliter is: ('family_number', 1)\n",
      "the min entropy is: 0.5623351446188083\n"
     ]
    },
    {
     "data": {
      "text/plain": [
       "('family_number', 1)"
      ]
     },
     "execution_count": 39,
     "metadata": {},
     "output_type": "execute_result"
    }
   ],
   "source": [
    "find_the_optimal_spilter(fm_n_1[fm_n_1['income'] == '+10'], 'bought')"
   ]
  },
  {
   "cell_type": "markdown",
   "metadata": {},
   "source": [
    "#### 4. Finish the K-Means using 2-D matplotlib (8 points)"
   ]
  },
  {
   "cell_type": "markdown",
   "metadata": {},
   "source": [
    "<评阅点>\n",
    "> + 是否完成了KMeans模型，基于scikit-learning (3')\n",
    "+ 是否完成了可视化任务（5'）"
   ]
  },
  {
   "cell_type": "code",
   "execution_count": 46,
   "metadata": {},
   "outputs": [
    {
     "data": {
      "text/plain": [
       "<matplotlib.collections.PathCollection at 0x245f1974308>"
      ]
     },
     "execution_count": 46,
     "metadata": {},
     "output_type": "execute_result"
    },
    {
     "data": {
      "image/png": "[encoded data removed]",
      "text/plain": [
       "<Figure size 432x288 with 1 Axes>"
      ]
     },
     "metadata": {
      "needs_background": "light"
     },
     "output_type": "display_data"
    }
   ],
   "source": [
    "from sklearn.cluster import KMeans\n",
    "X1 = [random.randint(0, 200) for _ in range(200)]\n",
    "X2 = [random.randint(0, 200) for _ in range(200)]\n",
    "plt.scatter(X1, X2)"
   ]
  },
  {
   "cell_type": "code",
   "execution_count": 63,
   "metadata": {},
   "outputs": [
    {
     "data": {
      "text/plain": [
       "KMeans(algorithm='auto', copy_x=True, init='k-means++', max_iter=500,\n",
       "       n_clusters=7, n_init=10, n_jobs=None, precompute_distances='auto',\n",
       "       random_state=None, tol=0.0001, verbose=0)"
      ]
     },
     "execution_count": 63,
     "metadata": {},
     "output_type": "execute_result"
    }
   ],
   "source": [
    "tranning_data = [[x1, x2] for x1, x2 in zip(X1, X2)]\n",
    "cluster = KMeans(n_clusters=7, max_iter=500)\n",
    "cluster.fit(tranning_data)"
   ]
  },
  {
   "cell_type": "code",
   "execution_count": 64,
   "metadata": {},
   "outputs": [
    {
     "data": {
      "text/plain": [
       "array([[ 50.31818182, 174.45454545],\n",
       "       [ 99.13793103,  49.17241379],\n",
       "       [ 99.70967742, 128.35483871],\n",
       "       [172.2       ,  45.46666667],\n",
       "       [ 32.3030303 ,  34.03030303],\n",
       "       [165.06451613, 144.5483871 ],\n",
       "       [ 36.33333333, 107.5       ]])"
      ]
     },
     "execution_count": 64,
     "metadata": {},
     "output_type": "execute_result"
    }
   ],
   "source": [
    "cluster.cluster_centers_"
   ]
  },
  {
   "cell_type": "code",
   "execution_count": 65,
   "metadata": {},
   "outputs": [
    {
     "data": {
      "text/plain": [
       "array([1, 0, 2, 5, 5, 6, 6, 2, 5, 2, 5, 6, 5, 5, 4, 3, 2, 3, 5, 5, 0, 3,\n",
       "       3, 6, 6, 6, 5, 6, 4, 3, 1, 0, 3, 0, 2, 2, 6, 4, 4, 5, 3, 5, 6, 5,\n",
       "       0, 3, 2, 6, 2, 1, 1, 4, 2, 2, 5, 3, 1, 4, 5, 1, 3, 2, 3, 2, 5, 3,\n",
       "       3, 6, 2, 3, 6, 1, 3, 0, 1, 5, 4, 6, 2, 2, 4, 1, 3, 3, 3, 2, 1, 3,\n",
       "       0, 1, 1, 2, 6, 2, 1, 0, 4, 3, 2, 4, 4, 1, 5, 1, 2, 5, 4, 2, 6, 1,\n",
       "       2, 0, 5, 1, 5, 4, 3, 6, 3, 0, 0, 0, 0, 4, 4, 6, 6, 0, 5, 2, 4, 1,\n",
       "       0, 4, 1, 4, 2, 4, 2, 2, 3, 5, 1, 6, 0, 3, 4, 2, 3, 1, 2, 4, 2, 4,\n",
       "       5, 5, 0, 1, 3, 1, 4, 1, 5, 4, 4, 3, 4, 5, 0, 4, 4, 0, 4, 6, 4, 1,\n",
       "       3, 2, 6, 6, 5, 5, 6, 5, 6, 5, 4, 0, 4, 1, 0, 3, 4, 0, 3, 1, 1, 5,\n",
       "       1, 2])"
      ]
     },
     "execution_count": 65,
     "metadata": {},
     "output_type": "execute_result"
    }
   ],
   "source": [
    "cluster.labels_"
   ]
  },
  {
   "cell_type": "code",
   "execution_count": 71,
   "metadata": {},
   "outputs": [
    {
     "data": {
      "image/png": "[encoded data removed]",
      "text/plain": [
       "<Figure size 432x288 with 1 Axes>"
      ]
     },
     "metadata": {
      "needs_background": "light"
     },
     "output_type": "display_data"
    }
   ],
   "source": [
    "from collections import defaultdict\n",
    "centers = defaultdict(list)\n",
    "for label, location in zip(cluster.labels_, tranning_data):\n",
    "    centers[label].append(location)\n",
    "\n",
    "color = ['red', 'green', 'grey', 'black', 'yellow', 'pink', 'magenta'] #\n",
    "for i, c in enumerate(centers):\n",
    "    for location in centers[c]:\n",
    "        plt.scatter(*location, c=color[i])      \n",
    "for center in cluster.cluster_centers_:\n",
    "    plt.scatter(*center, s=100)"
   ]
  },
  {
   "cell_type": "markdown",
   "metadata": {},
   "source": [
    "## Part-2 Question and Answer 问答"
   ]
  },
  {
   "cell_type": "markdown",
   "metadata": {},
   "source": [
    "#### 1. What's the *model*? why  all the models are wrong, but some are useful? (5 points) "
   ]
  },
  {
   "cell_type": "markdown",
   "metadata": {},
   "source": [
    "Ans:模型是对真实世界的模拟，是对现实世界方法的一种抽象。\n",
    "所以并没有一种模型能完全模拟真实的各种求情况，总会有部分信息没有考虑到。\n",
    "而在世界解决问题的方法中，能找到解决大多数问题的关键，\n",
    "所以一些好的模型是能帮助我们分析和解决实际问题的"
   ]
  },
  {
   "cell_type": "markdown",
   "metadata": {},
   "source": [
    "<评阅点>\n",
    "> + 对模型的理解是否正确,对模型的抽象性是否正确(5')"
   ]
  },
  {
   "cell_type": "markdown",
   "metadata": {},
   "source": [
    "#### 2. What's the underfitting and overfitting? List the reasons that could make model overfitting or underfitting. (10 points)"
   ]
  },
  {
   "cell_type": "markdown",
   "metadata": {},
   "source": [
    "Ans:欠拟合就是对分析样本的特性，特征没有考虑够，过于简单，拟合不足\n",
    "    比如二次函数，用一次函数模拟，就会模拟不足\n",
    "过拟合就是完全模拟了所有数据，但是也包括错误的数据，过于复杂\n",
    "   比如你好房价函数，用了很高阶的函数，导致偏差很大"
   ]
  },
  {
   "cell_type": "markdown",
   "metadata": {},
   "source": [
    "<评阅点>\n",
    "> + 对过拟合和欠拟合的理解是否正确 (3')\n",
    "+ 对欠拟合产生的原因是否理解正确(2')\n",
    "+ 对过拟合产生的原因是否理解正确(5')"
   ]
  },
  {
   "cell_type": "markdown",
   "metadata": {},
   "source": [
    "#### 3. What's the precision, recall, AUC, F1, F2score. What are they mainly target on? (12')"
   ]
  },
  {
   "cell_type": "markdown",
   "metadata": {},
   "source": [
    "Ans\n",
    "precision 是指预测为“是”并且预测正确的个数/预测为“是”的个数\n",
    "$$ precision = \\frac{TP}{TP + NP} $$\n",
    "\n",
    "recall 是指预测为“是”并且预测正确的个数/实际上为“是”的个数\n",
    "$$ precision = \\frac{TP}{TP + FN} $$\n",
    "\n",
    "ROC/AUC ROC: receiver oprating characteristic curve 由TPR和FPR组成的曲线\n",
    "\n",
    "AUC: area under curve ROC曲线下的面积，ROC越大表现越好\n",
    "$$TPR = \\frac{TP}{TP + FN} $$\n",
    "$$FPR = \\frac{FP}{FP + TN} $$\n",
    "\n",
    "F1、F2 由于precision和recall是此消彼长的，我们有时候需要平衡这两个标准，于是引入了F-score\n",
    "$$ F-score = (1+\\beta^2)\\cdot \\frac{precision \\cdot recall}{\\beta^2 \\cdot precision + recall} $$\n",
    "\n",
    "$$ \\beta = 1 时为F1，\\beta = 2 时为F2 $$\n"
   ]
  },
  {
   "cell_type": "markdown",
   "metadata": {},
   "source": [
    "# <评阅点>\n",
    "> + 对precision, recall, AUC, F1, F2 理解是否正确(6‘)\n",
    "+ 对precision, recall, AUC, F1, F2的使用侧重点是否理解正确 (6’)"
   ]
  },
  {
   "cell_type": "markdown",
   "metadata": {},
   "source": [
    "#### 4. Based on our course and yourself mind, what's the machine learning?  (8')"
   ]
  },
  {
   "cell_type": "markdown",
   "metadata": {},
   "source": [
    "Ans:老师经常说了是，原来程序都是手动书写判断和逻辑，生成程序。而AI就好比写了解释器，做好打的框架，可以根据不同的输入，做相应的处理，是一种更高级的抽象。可以根据输入的数据进行不同的处理。\n",
    "机器学习就是根据依据数据，自训练这种规格，并不断优化直至生成最有的结果"
   ]
  },
  {
   "cell_type": "markdown",
   "metadata": {},
   "source": [
    "<评阅点> 开放式问题，是否能说出来机器学习这种思维方式和传统的分析式编程的区别（8'）"
   ]
  },
  {
   "cell_type": "markdown",
   "metadata": {},
   "source": [
    "#### 5. \"正确定义了机器学习模型的评价标准(evaluation)， 问题基本上就已经解决一半\". 这句话是否正确？你是怎么看待的？ (8‘)"
   ]
  },
  {
   "cell_type": "markdown",
   "metadata": {},
   "source": [
    "ANS:1： 机器学习就是处理数据，进行预测或者分类评估。 随意关键的是数据的处理，以及对特征因素的分析。 所以model大多是根据人类思考的因素，收取相关影响因素。  有了大量的数据，才能进行机器学习，分析个因素影响关系，直至生成一个优化的model。\n",
    "所以数据的量影响了机器学习的效果，不过数据也是人为分析才收集的。\n",
    "2：定义好了机器学习的效果和评估标准，才能采取合理的优化，生成更准确的模型"
   ]
  },
  {
   "cell_type": "markdown",
   "metadata": {},
   "source": [
    "<评阅点> 开放式问题，主要看能理解评价指标对机器学习模型的重要性."
   ]
  },
  {
   "cell_type": "markdown",
   "metadata": {},
   "source": [
    "## Part-03 Programming Practice 编程练习"
   ]
  },
  {
   "cell_type": "markdown",
   "metadata": {},
   "source": [
    "1. In our course and previous practice, we complete some importance components of Decision Tree. In this problem, you need to build a **completed** Decision Tree Model. You show finish a `predicate()` function, which accepts three parameters **<gender, income, family_number>**, and outputs the predicated 'bought': 1 or 0.  (20 points)"
   ]
  },
  {
   "cell_type": "code",
   "execution_count": null,
   "metadata": {},
   "outputs": [],
   "source": [
    "# you code here\n"
   ]
  },
  {
   "cell_type": "markdown",
   "metadata": {},
   "source": [
    "<评阅点>\n",
    "> + 是否将之前的决策树模型的部分进行合并组装， predicate函数能够顺利运行(8')\n",
    "+ 是够能够输入未曾见过的X变量，例如gender, income, family_number 分别是： <M, -10, 1>, 模型能够预测出结果 (12')"
   ]
  },
  {
   "cell_type": "markdown",
   "metadata": {},
   "source": [
    "2. 将上一节课(第二节课)的线性回归问题中的Loss函数改成\"绝对值\"，并且改变其偏导的求值方式，观察其结果的变化。(19 point)"
   ]
  },
  {
   "cell_type": "code",
   "execution_count": null,
   "metadata": {},
   "outputs": [],
   "source": [
    "# you code here"
   ]
  },
  {
   "cell_type": "markdown",
   "metadata": {},
   "source": [
    "<评阅点>\n",
    "+ 是否将Loss改成了“绝对值”(3')\n",
    "+ 是否完成了偏导的重新定义(5')\n",
    "+ 新的模型Loss是否能够收敛 (11’)"
   ]
  },
  {
   "cell_type": "markdown",
   "metadata": {},
   "source": []
  }
 ],
 "metadata": {
  "kernelspec": {
   "display_name": "Python 3",
   "language": "python",
   "name": "python3"
  },
  "language_info": {
   "codemirror_mode": {
    "name": "ipython",
    "version": 3
   },
   "file_extension": ".py",
   "mimetype": "text/x-python",
   "name": "python",
   "nbconvert_exporter": "python",
   "pygments_lexer": "ipython3",
   "version": "3.7.4"
  }
 },
 "nbformat": 4,
 "nbformat_minor": 2
}
